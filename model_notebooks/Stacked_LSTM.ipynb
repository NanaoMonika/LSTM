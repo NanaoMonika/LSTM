{
 "cells": [
  {
   "cell_type": "markdown",
   "metadata": {},
   "source": [
    "# Stacked LSTM"
   ]
  },
  {
   "cell_type": "code",
   "execution_count": 26,
   "metadata": {
    "collapsed": false
   },
   "outputs": [
    {
     "name": "stdout",
     "output_type": "stream",
     "text": [
      "[[[ 0.01025771]\n",
      "  [ 0.02812853]\n",
      "  [ 0.05088762]]]\n",
      "_________________________________________________________________\n",
      "Layer (type)                 Output Shape              Param #   \n",
      "=================================================================\n",
      "lstm_14 (LSTM)               (None, 3, 1)              12        \n",
      "=================================================================\n",
      "Total params: 12\n",
      "Trainable params: 12\n",
      "Non-trainable params: 0\n",
      "_________________________________________________________________\n"
     ]
    }
   ],
   "source": [
    "from keras.models import Sequential\n",
    "from keras.layers import LSTM, Dense\n",
    "from numpy import array\n",
    "# Difference between required outputs for new LSTM layers, and Dense layers. \n",
    "# Difference in return_sequences as False and True\n",
    "model = Sequential()\n",
    "model.add(LSTM(1, return_sequences=True, input_shape=(3,1)))\n",
    "model.compile(optimizer='adam', loss='mse')\n",
    "# One sequence of 3 floats.\n",
    "data = array([0.1, 0.2, 0.3]).reshape((1,3,1))\n",
    "# Make and show prediction\n",
    "print(model.predict(data))\n",
    "model.summary()"
   ]
  },
  {
   "cell_type": "code",
   "execution_count": 27,
   "metadata": {
    "collapsed": false
   },
   "outputs": [
    {
     "name": "stdout",
     "output_type": "stream",
     "text": [
      "[[-0.06910652]]\n",
      "_________________________________________________________________\n",
      "Layer (type)                 Output Shape              Param #   \n",
      "=================================================================\n",
      "lstm_15 (LSTM)               (None, 1)                 12        \n",
      "=================================================================\n",
      "Total params: 12\n",
      "Trainable params: 12\n",
      "Non-trainable params: 0\n",
      "_________________________________________________________________\n"
     ]
    }
   ],
   "source": [
    "model = Sequential()\n",
    "model.add(LSTM(1, input_shape=(3,1)))\n",
    "model.compile(optimizer='adam', loss='mse')\n",
    "# input time steps\n",
    "data = array([0.1, 0.2, 0.3]).reshape((1,3,1))\n",
    "# make and show prediction\n",
    "print(model.predict(data))\n",
    "model.summary()"
   ]
  },
  {
   "cell_type": "code",
   "execution_count": 28,
   "metadata": {
    "collapsed": true
   },
   "outputs": [],
   "source": [
    "# The return sequence makes the layer output a value for each input value rather than a single output value"
   ]
  },
  {
   "cell_type": "markdown",
   "metadata": {},
   "source": [
    "## Stacking LSTM layers for predicting values for a damped sinewave sequence"
   ]
  },
  {
   "cell_type": "code",
   "execution_count": 29,
   "metadata": {
    "collapsed": false
   },
   "outputs": [
    {
     "data": {
      "text/plain": [
       "[<matplotlib.lines.Line2D at 0x7f3fa1b10a90>]"
      ]
     },
     "execution_count": 29,
     "metadata": {},
     "output_type": "execute_result"
    },
    {
     "data": {
      "image/png": "[encoded data removed]",
      "text/plain": [
       "<matplotlib.figure.Figure at 0x7f3fa20aeda0>"
      ]
     },
     "metadata": {},
     "output_type": "display_data"
    }
   ],
   "source": [
    "from math import sin, exp, cos, pi\n",
    "from matplotlib import pyplot\n",
    "from random import randint, uniform\n",
    "%matplotlib inline\n",
    "\n",
    "# Define example sequence of what we want\n",
    "length = 100\n",
    "period = 10\n",
    "decay = 0.05\n",
    "sequence = [0.5 + 0.5 * sin(2 * pi * i / period) * exp(-decay * i) for i in range(length)]\n",
    "\n",
    "# Plot sequence for visualisation of what we are trying to do.\n",
    "pyplot.plot(sequence)"
   ]
  },
  {
   "cell_type": "code",
   "execution_count": 30,
   "metadata": {
    "collapsed": true
   },
   "outputs": [],
   "source": [
    "# Example setup\n",
    "def generate_sequence(length, period, decay):\n",
    "    return [0.5 + 0.5 * sin(2 * pi * i / period) * exp(-decay * i) for i in range(length)]"
   ]
  },
  {
   "cell_type": "code",
   "execution_count": 31,
   "metadata": {
    "collapsed": true
   },
   "outputs": [],
   "source": [
    "# generate input and output pairs of damped sine waves\n",
    "def generate_examples(length, n_sequences, output):\n",
    "    X, y = list(), list()\n",
    "    for _ in range(n_sequences):\n",
    "        p = randint(10, 20)\n",
    "        d = uniform(0.01, 0.1)\n",
    "        sequence = generate_sequence(length + output, p, d)\n",
    "        X.append(sequence[:-output])\n",
    "        y.append(sequence[-output:])\n",
    "    X = array(X).reshape(n_sequences, length, 1)\n",
    "    y = array(y).reshape(n_sequences, output)\n",
    "    return X, y"
   ]
  },
  {
   "cell_type": "code",
   "execution_count": 32,
   "metadata": {
    "collapsed": false
   },
   "outputs": [
    {
     "name": "stdout",
     "output_type": "stream",
     "text": [
      "[[[ 0.5       ]\n",
      "  [ 0.72137669]\n",
      "  [ 0.87350503]\n",
      "  [ 0.92923448]\n",
      "  [ 0.88517617]\n",
      "  [ 0.76025656]\n",
      "  [ 0.58948423]\n",
      "  [ 0.41474613]\n",
      "  [ 0.27493685]\n",
      "  [ 0.19765887]\n",
      "  [ 0.19417883]\n",
      "  [ 0.2584514 ]\n",
      "  [ 0.37005035]\n",
      "  [ 0.5       ]\n",
      "  [ 0.61795334]\n",
      "  [ 0.69900995]\n",
      "  [ 0.72870356]\n",
      "  [ 0.70522854]\n",
      "  [ 0.6386692 ]\n",
      "  [ 0.54767875]]\n",
      "\n",
      " [[ 0.5       ]\n",
      "  [ 0.67259212]\n",
      "  [ 0.80756717]\n",
      "  [ 0.89050952]\n",
      "  [ 0.91507435]\n",
      "  [ 0.88311747]\n",
      "  [ 0.8037393 ]\n",
      "  [ 0.69146273]\n",
      "  [ 0.56385886]\n",
      "  [ 0.43897971]\n",
      "  [ 0.3329511 ]\n",
      "  [ 0.25802718]\n",
      "  [ 0.22132129]\n",
      "  [ 0.22432082]\n",
      "  [ 0.26318133]\n",
      "  [ 0.32969377]\n",
      "  [ 0.41273949]\n",
      "  [ 0.5       ]\n",
      "  [ 0.57967535]\n",
      "  [ 0.64198518]]\n",
      "\n",
      " [[ 0.5       ]\n",
      "  [ 0.69281965]\n",
      "  [ 0.83402536]\n",
      "  [ 0.90530344]\n",
      "  [ 0.9018429 ]\n",
      "  [ 0.83177265]\n",
      "  [ 0.71349938]\n",
      "  [ 0.57160195]\n",
      "  [ 0.43211203]\n",
      "  [ 0.31802967]\n",
      "  [ 0.24579709]\n",
      "  [ 0.22322158]\n",
      "  [ 0.24904712]\n",
      "  [ 0.31407949]\n",
      "  [ 0.40352048]\n",
      "  [ 0.5       ]\n",
      "  [ 0.58673035]\n",
      "  [ 0.65024473]\n",
      "  [ 0.68230564]\n",
      "  [ 0.68074909]]]\n",
      "\n",
      "[[ 0.45457526  0.38008246  0.33890741  0.33705318  0.37129872]\n",
      " [ 0.68027465  0.69161474  0.67686218  0.64021808  0.58838677]\n",
      " [ 0.64923146  0.5960321   0.53220658  0.46946397  0.41814968]]\n"
     ]
    },
    {
     "data": {
      "image/png": "[encoded data removed]",
      "text/plain": [
       "<matplotlib.figure.Figure at 0x7f3fa1b36898>"
      ]
     },
     "metadata": {},
     "output_type": "display_data"
    }
   ],
   "source": [
    "# See what the generate examples outpus \n",
    "X, y = generate_examples(20, 3, 5)\n",
    "for i in range(len(X)):\n",
    "    pyplot.plot([x for x in X[i, :, 0]] + [x for x in y[i]], '-o')\n",
    "print(X)\n",
    "print()\n",
    "print(y)"
   ]
  },
  {
   "cell_type": "code",
   "execution_count": 33,
   "metadata": {
    "collapsed": false
   },
   "outputs": [
    {
     "name": "stdout",
     "output_type": "stream",
     "text": [
      "_________________________________________________________________\n",
      "Layer (type)                 Output Shape              Param #   \n",
      "=================================================================\n",
      "lstm_16 (LSTM)               (None, 50, 20)            1760      \n",
      "_________________________________________________________________\n",
      "lstm_17 (LSTM)               (None, 20)                3280      \n",
      "_________________________________________________________________\n",
      "dense_3 (Dense)              (None, 5)                 105       \n",
      "=================================================================\n",
      "Total params: 5,145\n",
      "Trainable params: 5,145\n",
      "Non-trainable params: 0\n",
      "_________________________________________________________________\n"
     ]
    }
   ],
   "source": [
    "# configure problem\n",
    "length = 50\n",
    "output = 5\n",
    "\n",
    "# define model\n",
    "model = Sequential()\n",
    "# 20 memory cells, 1 feature, 20 time steps\n",
    "model.add(LSTM(20, return_sequences=True, input_shape=(length, 1)))\n",
    "# 20 memory cells\n",
    "model.add(LSTM(20))\n",
    "# Predict 5 values\n",
    "model.add(Dense(output))\n",
    "model.compile(loss='mae', optimizer='adam')\n",
    "model.summary()"
   ]
  },
  {
   "cell_type": "code",
   "execution_count": 34,
   "metadata": {
    "collapsed": false
   },
   "outputs": [
    {
     "data": {
      "text/plain": [
       "<keras.callbacks.History at 0x7f3fb01afb38>"
      ]
     },
     "execution_count": 34,
     "metadata": {},
     "output_type": "execute_result"
    }
   ],
   "source": [
    "# Generate 10000 sequences and try to generalize a model to predicting values from it.\n",
    "# verbose the weights after 10 sequences (batch_size) as i dont want to wait, although i \n",
    "# imagine a batch_size of 1 might be ideal, as it would reset the internal state of the\n",
    "# model after each sample generalizing better.\n",
    "X, y = generate_examples(length, 10000, output)\n",
    "model.fit(X, y, batch_size=10, epochs=1, verbose=0)"
   ]
  },
  {
   "cell_type": "code",
   "execution_count": 35,
   "metadata": {
    "collapsed": false
   },
   "outputs": [
    {
     "name": "stdout",
     "output_type": "stream",
     "text": [
      "MAE: 0.020169\n"
     ]
    }
   ],
   "source": [
    "# evaluate model\n",
    "X, y = generate_examples(length, 1000, output)\n",
    "loss = model.evaluate(X, y, verbose=0)\n",
    "print('MAE: %f' % loss)"
   ]
  },
  {
   "cell_type": "code",
   "execution_count": 45,
   "metadata": {
    "collapsed": false
   },
   "outputs": [
    {
     "data": {
      "text/plain": [
       "<matplotlib.legend.Legend at 0x7f3f83fd5f60>"
      ]
     },
     "execution_count": 45,
     "metadata": {},
     "output_type": "execute_result"
    },
    {
     "data": {
      "image/png": "[encoded data removed]",
      "text/plain": [
       "<matplotlib.figure.Figure at 0x7f3fa005c0b8>"
      ]
     },
     "metadata": {},
     "output_type": "display_data"
    }
   ],
   "source": [
    "# prediction on new data to visualize performance on single sequence.\n",
    "X, y = generate_examples(length, 1, output)\n",
    "yhat = model.predict(X, verbose=0)\n",
    "pyplot.plot(y[0], label='y')\n",
    "pyplot.plot(yhat[0], label='yhat')\n",
    "pyplot.legend()"
   ]
  },
  {
   "cell_type": "code",
   "execution_count": 46,
   "metadata": {
    "collapsed": true
   },
   "outputs": [],
   "source": [
    "# One might think the predictions could have been better\n",
    "# however we tried to generalize a model for non stationary \n",
    "# random data, we could however generate only 1 sequence and\n",
    "# make the model memorize it, but that isn't the goal."
   ]
  }
 ],
 "metadata": {
  "kernelspec": {
   "display_name": "Python 3",
   "language": "python",
   "name": "python3"
  },
  "language_info": {
   "codemirror_mode": {
    "name": "ipython",
    "version": 3
   },
   "file_extension": ".py",
   "mimetype": "text/x-python",
   "name": "python",
   "nbconvert_exporter": "python",
   "pygments_lexer": "ipython3",
   "version": "3.6.0"
  }
 },
 "nbformat": 4,
 "nbformat_minor": 2
}
