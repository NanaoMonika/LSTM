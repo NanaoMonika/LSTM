{
 "cells": [
  {
   "cell_type": "code",
   "execution_count": 1,
   "metadata": {},
   "outputs": [
    {
     "name": "stderr",
     "output_type": "stream",
     "text": [
      "Using TensorFlow backend.\n"
     ]
    }
   ],
   "source": [
    "import numpy as np\n",
    "import pandas as pd\n",
    "from keras.layers import LSTM, Bidirectional, Dense, TimeDistributed\n",
    "from keras.models import Sequential"
   ]
  },
  {
   "cell_type": "code",
   "execution_count": null,
   "metadata": {},
   "outputs": [],
   "source": [
    "# Specification of directionality in keras\n",
    "\n",
    "model = Sequential()\n",
    "model.add(LSTM(...,..., go_backwards = True))\n",
    "\n",
    "# Bidirectional first layer wraps first LSTM layer for both \n",
    "# directions. This layer merges the output from two parallel LSTMs,\n",
    "# one with input processed forward and one with output \n",
    "# processed backwards.\n",
    "\n",
    "model = Sequential()\n",
    "model.add(Bidirectional(LSTM(...), input_shape=(...)))"
   ]
  },
  {
   "cell_type": "markdown",
   "metadata": {},
   "source": [
    "# Cumulative Sum Prediction Problem\n",
    "The problem is defined as a sequence of random values between 0 and 1. This sequence is taken\n",
    "as input for the problem with each number provided once per time step. A binary label (0 or 1)\n",
    "is associated with each input. The output values are all 0. Once the cumulative sum of the\n",
    "input values in the sequence exceeds a threshold, then the output value \n",
    "flips from 0 to 1.\n",
    "A threshold of one quarter the sequence length is used."
   ]
  },
  {
   "cell_type": "code",
   "execution_count": 2,
   "metadata": {},
   "outputs": [],
   "source": [
    "X = np.random.rand(10)"
   ]
  },
  {
   "cell_type": "code",
   "execution_count": 3,
   "metadata": {},
   "outputs": [],
   "source": [
    "limit = 10/4"
   ]
  },
  {
   "cell_type": "code",
   "execution_count": 4,
   "metadata": {},
   "outputs": [],
   "source": [
    "y = np.array([0 if x < limit else 1 for x in np.cumsum(X)])"
   ]
  },
  {
   "cell_type": "code",
   "execution_count": 5,
   "metadata": {},
   "outputs": [
    {
     "name": "stdout",
     "output_type": "stream",
     "text": [
      "Example input values:  [ 0.68968101  0.6902787   0.71390136  0.5410991   0.19614277  0.58387646\n",
      "  0.3721204   0.87764648  0.53272351  0.87801889] \n",
      " Example output values:  [0 0 0 1 1 1 1 1 1 1]\n"
     ]
    }
   ],
   "source": [
    "print(\"Example input values: \", X ,\n",
    "      '\\n',\n",
    "      \"Example output values: \", y)"
   ]
  },
  {
   "cell_type": "code",
   "execution_count": 6,
   "metadata": {},
   "outputs": [],
   "source": [
    "def generate_seq(n_sequences, n_timesteps):\n",
    "    '''\n",
    "    Function for generating sequences we use as data.\n",
    "    '''\n",
    "    seqX, seqY = [], []\n",
    "    \n",
    "    for i in range(n_sequences):\n",
    "        X = np.random.rand(n_timesteps)\n",
    "        limit = n_timesteps/4\n",
    "        y = np.array([0 if x < limit else 1 for x in np.cumsum(X)])\n",
    "        \n",
    "        seqX.append(X)\n",
    "        seqY.append(y)\n",
    "        \n",
    "    seqX = np.array(seqX).reshape(n_sequences, n_timesteps, 1)\n",
    "    seqY = np.array(seqY).reshape(n_sequences, n_timesteps, 1)\n",
    "\n",
    "    return seqX, seqY"
   ]
  },
  {
   "cell_type": "code",
   "execution_count": 7,
   "metadata": {},
   "outputs": [],
   "source": [
    "# Define input timesteps (sequence length)\n",
    "n_timesteps = 10"
   ]
  },
  {
   "cell_type": "code",
   "execution_count": 8,
   "metadata": {},
   "outputs": [
    {
     "name": "stdout",
     "output_type": "stream",
     "text": [
      "_________________________________________________________________\n",
      "Layer (type)                 Output Shape              Param #   \n",
      "=================================================================\n",
      "bidirectional_1 (Bidirection (None, 10, 100)           20800     \n",
      "_________________________________________________________________\n",
      "time_distributed_1 (TimeDist (None, 10, 1)             101       \n",
      "=================================================================\n",
      "Total params: 20,901\n",
      "Trainable params: 20,901\n",
      "Non-trainable params: 0\n",
      "_________________________________________________________________\n"
     ]
    }
   ],
   "source": [
    "# Define model and print summary\n",
    "model = Sequential()\n",
    "model.add(Bidirectional(LSTM(50, return_sequences=True), input_shape=(n_timesteps, 1)))\n",
    "model.add(TimeDistributed(Dense(1, activation='sigmoid')))\n",
    "model.compile(loss='binary_crossentropy', optimizer='adam', metrics=['acc'])\n",
    "model.summary()"
   ]
  },
  {
   "cell_type": "code",
   "execution_count": 9,
   "metadata": {},
   "outputs": [
    {
     "name": "stdout",
     "output_type": "stream",
     "text": [
      "Epoch 1/1\n",
      "50000/50000 [==============================] - 184s 4ms/step - loss: 0.0495 - acc: 0.9822\n"
     ]
    },
    {
     "data": {
      "text/plain": [
       "<keras.callbacks.History at 0x7fe110c50da0>"
      ]
     },
     "execution_count": 9,
     "metadata": {},
     "output_type": "execute_result"
    }
   ],
   "source": [
    "# We can simplify training by using the number of randomly generated\n",
    "# sequences as a proxy for epochs. This allows us to generate a large \n",
    "# number of examples, in this case 50,000, store them in memory,\n",
    "# and fit them in one Keras epoch.\n",
    "X, y = generate_seq(50000, n_timesteps)\n",
    "model.fit(X, y, epochs=1, batch_size=10)"
   ]
  },
  {
   "cell_type": "code",
   "execution_count": 16,
   "metadata": {},
   "outputs": [
    {
     "name": "stdout",
     "output_type": "stream",
     "text": [
      "1000/1000 [==============================] - 1s 722us/step\n",
      "Loss: 0.018647, Accuracy: 99.630000\n"
     ]
    }
   ],
   "source": [
    "# Evaluate model on 1000 sequences\n",
    "X, y = generate_seq(1000, n_timesteps)\n",
    "loss, acc = model.evaluate(X,y)\n",
    "\n",
    "print('Loss: %f, Accuracy: %f' % (loss, acc*100))"
   ]
  },
  {
   "cell_type": "code",
   "execution_count": 14,
   "metadata": {},
   "outputs": [
    {
     "name": "stdout",
     "output_type": "stream",
     "text": [
      "y=[0 0 0 0 1 1 1 1 1 1], yhat=[0 0 0 0 1 1 1 1 1 1], correct=True\n",
      "y=[0 0 0 0 1 1 1 1 1 1], yhat=[0 0 0 0 1 1 1 1 1 1], correct=True\n",
      "y=[0 0 0 0 1 1 1 1 1 1], yhat=[0 0 0 0 1 1 1 1 1 1], correct=True\n",
      "y=[0 0 0 0 1 1 1 1 1 1], yhat=[0 0 0 0 1 1 1 1 1 1], correct=True\n",
      "y=[0 0 0 0 0 1 1 1 1 1], yhat=[0 0 0 0 0 1 1 1 1 1], correct=True\n",
      "y=[0 0 0 1 1 1 1 1 1 1], yhat=[0 0 0 1 1 1 1 1 1 1], correct=True\n",
      "y=[0 0 0 1 1 1 1 1 1 1], yhat=[0 0 0 1 1 1 1 1 1 1], correct=True\n",
      "y=[0 0 0 0 0 0 1 1 1 1], yhat=[0 0 0 0 0 0 1 1 1 1], correct=True\n",
      "y=[0 0 1 1 1 1 1 1 1 1], yhat=[0 0 1 1 1 1 1 1 1 1], correct=True\n",
      "y=[0 0 0 1 1 1 1 1 1 1], yhat=[0 0 0 1 1 1 1 1 1 1], correct=True\n"
     ]
    }
   ],
   "source": [
    "# Predict values for 10 sequences and print information\n",
    "for _ in range(10):\n",
    "    X, y = generate_seq(1, n_timesteps)\n",
    "    yhat = model.predict_classes(X, verbose=0)\n",
    "    exp, pred = y.reshape(n_timesteps), yhat.reshape(n_timesteps)\n",
    "    print('y=%s, yhat=%s, correct=%s' % (exp, pred, np.array_equal(exp,pred)))"
   ]
  }
 ],
 "metadata": {
  "kernelspec": {
   "display_name": "Python 3",
   "language": "python",
   "name": "python3"
  },
  "language_info": {
   "codemirror_mode": {
    "name": "ipython",
    "version": 3
   },
   "file_extension": ".py",
   "mimetype": "text/x-python",
   "name": "python",
   "nbconvert_exporter": "python",
   "pygments_lexer": "ipython3",
   "version": "3.6.0"
  }
 },
 "nbformat": 4,
 "nbformat_minor": 2
}
