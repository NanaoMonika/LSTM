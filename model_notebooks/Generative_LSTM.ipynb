{
 "cells": [
  {
   "cell_type": "markdown",
   "metadata": {},
   "source": [
    "# Shape Generation Problem"
   ]
  },
  {
   "cell_type": "code",
   "execution_count": 1,
   "metadata": {},
   "outputs": [
    {
     "name": "stderr",
     "output_type": "stream",
     "text": [
      "Using TensorFlow backend.\n"
     ]
    }
   ],
   "source": [
    "from random import random\n",
    "import numpy as np\n",
    "import pandas as pd\n",
    "from keras.layers import LSTM, Dense\n",
    "from keras.models import Sequential\n",
    "import matplotlib.pyplot as plt\n",
    "import matplotlib.patches as patches\n",
    "%matplotlib inline\n"
   ]
  },
  {
   "cell_type": "code",
   "execution_count": 2,
   "metadata": {},
   "outputs": [],
   "source": [
    "def random_rectangle():\n",
    "    width, height = random(), random()\n",
    "    points = []\n",
    "    #append bottom left\n",
    "    points.append([0.0, 0.0])\n",
    "    #append bottom right\n",
    "    points.append([width, 0.0])\n",
    "    #append top right\n",
    "    points.append([width, height])\n",
    "    #append botttom right\n",
    "    points.append([0.0, height])\n",
    "    \n",
    "    return points"
   ]
  },
  {
   "cell_type": "code",
   "execution_count": 3,
   "metadata": {},
   "outputs": [
    {
     "data": {
      "text/plain": [
       "[[0.0, 0.0],\n",
       " [0.9073141378886914, 0.0],\n",
       " [0.9073141378886914, 0.09095106492385263],\n",
       " [0.0, 0.09095106492385263],\n",
       " [0.0, 0.0]]"
      ]
     },
     "execution_count": 3,
     "metadata": {},
     "output_type": "execute_result"
    }
   ],
   "source": [
    "rectangle = random_rectangle()\n",
    "# close the rectangle path\n",
    "rectangle.append(rectangle[0])\n",
    "# define path for plotting\n",
    "rectangle"
   ]
  },
  {
   "cell_type": "code",
   "execution_count": 4,
   "metadata": {},
   "outputs": [],
   "source": [
    "def plot_rectangle(r):\n",
    "    r.append(r[0])\n",
    "    w = r[1][0]\n",
    "    h = r[2][1]\n",
    "    \n",
    "    fig = plt.figure()\n",
    "    ax1 = fig.add_subplot(111)\n",
    "    ax1.add_patch(patches.Rectangle((0, 0), w, h,\n",
    "                                   linewidth = 2, edgecolor = 'magenta',\n",
    "                                    facecolor = 'none'))\n",
    "    ax1.set_xlim(-0.1,1.1)\n",
    "    ax1.set_ylim(-0.1,1.1)"
   ]
  },
  {
   "cell_type": "code",
   "execution_count": 5,
   "metadata": {},
   "outputs": [
    {
     "data": {
      "image/png": "[encoded data removed]",
      "text/plain": [
       "<matplotlib.figure.Figure at 0x7fa5d4d40588>"
      ]
     },
     "metadata": {},
     "output_type": "display_data"
    }
   ],
   "source": [
    "plot_rectangle(rectangle)"
   ]
  },
  {
   "cell_type": "code",
   "execution_count": 6,
   "metadata": {},
   "outputs": [],
   "source": [
    "def get_samples():\n",
    "    rectangle = random_rectangle()\n",
    "    X, y = [], []\n",
    "    \n",
    "    for i in range(1, len(rectangle)):\n",
    "        X.append(rectangle[i-1])\n",
    "        y.append(rectangle[i])\n",
    "    \n",
    "    X, y = np.array(X), np.array(y)\n",
    "    X = X.reshape((X.shape[0], 1, 2))\n",
    "    return X, y"
   ]
  },
  {
   "cell_type": "code",
   "execution_count": 7,
   "metadata": {},
   "outputs": [
    {
     "name": "stdout",
     "output_type": "stream",
     "text": [
      "[ 0.  0.] => [ 0.64168174  0.        ]\n",
      "[ 0.64168174  0.        ] => [ 0.64168174  0.69221406]\n",
      "[ 0.64168174  0.69221406] => [ 0.          0.69221406]\n"
     ]
    }
   ],
   "source": [
    "X, y = get_samples()\n",
    "for i in range(X.shape[0]):\n",
    "    print(X[i][0], '=>', y[i])"
   ]
  },
  {
   "cell_type": "code",
   "execution_count": 8,
   "metadata": {},
   "outputs": [
    {
     "name": "stdout",
     "output_type": "stream",
     "text": [
      "_________________________________________________________________\n",
      "Layer (type)                 Output Shape              Param #   \n",
      "=================================================================\n",
      "lstm_1 (LSTM)                (None, 10)                520       \n",
      "_________________________________________________________________\n",
      "dense_1 (Dense)              (None, 2)                 22        \n",
      "=================================================================\n",
      "Total params: 542\n",
      "Trainable params: 542\n",
      "Non-trainable params: 0\n",
      "_________________________________________________________________\n"
     ]
    }
   ],
   "source": [
    "model = Sequential()\n",
    "\n",
    "model.add(LSTM(10, input_shape=(1, 2)))\n",
    "model.add(Dense(2, activation='linear'))\n",
    "model.compile(loss='mae', optimizer='adam')\n",
    "\n",
    "model.summary()"
   ]
  },
  {
   "cell_type": "code",
   "execution_count": 9,
   "metadata": {},
   "outputs": [],
   "source": [
    "for i in range(25000):\n",
    "    X, y = get_samples()\n",
    "    model.fit(X, y, epochs=1, verbose=0, shuffle=False)"
   ]
  },
  {
   "cell_type": "code",
   "execution_count": 10,
   "metadata": {},
   "outputs": [],
   "source": [
    "def generate_rectangle(model):\n",
    "    rectangle = []\n",
    "    # use [0,0] for first point\n",
    "    last = np.array([0.0,0.0]).reshape((1, 1, 2))\n",
    "    rectangle.append([[y for y in x] for x in last[0]][0])\n",
    "    # generate the remaining 3 coordinates\n",
    "    for i in range(3):\n",
    "        # predict the next coordinate\n",
    "        yhat = model.predict(last, verbose=0)\n",
    "        # use this output as input for the next prediction\n",
    "        last = yhat.reshape((1, 1, 2))\n",
    "        # store coordinate\n",
    "        rectangle.append([[y for y in x] for x in last[0]][0])\n",
    "    return rectangle"
   ]
  },
  {
   "cell_type": "code",
   "execution_count": 11,
   "metadata": {},
   "outputs": [
    {
     "data": {
      "image/png": "[encoded data removed]",
      "text/plain": [
       "<matplotlib.figure.Figure at 0x7fa5d25d46a0>"
      ]
     },
     "metadata": {},
     "output_type": "display_data"
    }
   ],
   "source": [
    "generated_rectangle = generate_rectangle(model)\n",
    "plot_rectangle(generated_rectangle)"
   ]
  }
 ],
 "metadata": {
  "kernelspec": {
   "display_name": "Python 3",
   "language": "python",
   "name": "python3"
  },
  "language_info": {
   "codemirror_mode": {
    "name": "ipython",
    "version": 3
   },
   "file_extension": ".py",
   "mimetype": "text/x-python",
   "name": "python",
   "nbconvert_exporter": "python",
   "pygments_lexer": "ipython3",
   "version": "3.6.0"
  }
 },
 "nbformat": 4,
 "nbformat_minor": 2
}
