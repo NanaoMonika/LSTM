{
 "cells": [
  {
   "cell_type": "markdown",
   "metadata": {},
   "source": [
    "# Moving Square Video Prediction Problem"
   ]
  },
  {
   "cell_type": "code",
   "execution_count": 1,
   "metadata": {
    "collapsed": true
   },
   "outputs": [],
   "source": [
    "from numpy import zeros, array\n",
    "from random import randint\n",
    "from random import random\n",
    "from matplotlib import pyplot\n",
    "%matplotlib inline\n",
    "# generate the next frame in the sequence\n",
    "def next_frame(last_step, last_frame, column):\n",
    "    # define the scope of the next step\n",
    "    lower = max(0, last_step-1)\n",
    "    upper = min(last_frame.shape[0]-1, last_step+1)\n",
    "    # choose the row index for the next step\n",
    "    step = randint(lower, upper)\n",
    "    # copy the prior frame\n",
    "    frame = last_frame.copy()\n",
    "    # add the new step\n",
    "    frame[step, column] = 1\n",
    "    return frame, step\n"
   ]
  },
  {
   "cell_type": "code",
   "execution_count": 2,
   "metadata": {
    "collapsed": false
   },
   "outputs": [
    {
     "data": {
      "image/png": "[encoded data removed]",
      "text/plain": [
       "<matplotlib.figure.Figure at 0x7f64ce5b3a20>"
      ]
     },
     "metadata": {},
     "output_type": "display_data"
    }
   ],
   "source": [
    "# generate a sequence of frames of a dot moving across an image\n",
    "def build_frames(size):\n",
    "    frames = list()\n",
    "    # create the first frame\n",
    "    frame = zeros((size,size))\n",
    "    step = randint(0, size-1)\n",
    "    # decide if we are heading left or right\n",
    "    right = 1 if random() < 0.5 else 0\n",
    "    col = 0 if right else size-1\n",
    "    frame[step, col] = 1\n",
    "    frames.append(frame)\n",
    "    # create all remaining frames\n",
    "    for i in range(1, size):\n",
    "        col = i if right else size-1-i\n",
    "        frame, step = next_frame(step, frame, col)\n",
    "        frames.append(frame)\n",
    "    return frames, right\n",
    "\n",
    "\n",
    "# generate sequence of frames\n",
    "size = 5\n",
    "build_frames(size)\n",
    "frames, right = build_frames(size)\n",
    "# plot all frames\n",
    "pyplot.figure()\n",
    "for i in range(size):\n",
    "        # create a gray scale subplot for each frame\n",
    "    pyplot.subplot(1, size, i+1)\n",
    "    pyplot.imshow(frames[i], cmap='Greys')\n",
    "    # turn of the scale to make it clearer\n",
    "    ax = pyplot.gca()\n",
    "    ax.get_xaxis().set_visible(False)\n",
    "    ax.get_yaxis().set_visible(False)\n"
   ]
  },
  {
   "cell_type": "code",
   "execution_count": 3,
   "metadata": {
    "collapsed": true
   },
   "outputs": [],
   "source": [
    "# generate multiple sequences of frames and reshape for network input\n",
    "# note we can reuse the size parameter as we are dealing with symmetrical images\n",
    "# and the number of black squares(timesteps) go side to side.\n",
    "def generate_examples(size, n_patterns):\n",
    "    X, y = list(), list()\n",
    "    for _ in range(n_patterns):\n",
    "        frames, right = build_frames(size)\n",
    "        X.append(frames)\n",
    "        y.append(right)\n",
    "    # resize as [samples, timesteps, width, height, channels]\n",
    "    X = array(X).reshape(n_patterns, size, size, size, 1)\n",
    "    y = array(y).reshape(n_patterns, 1)\n",
    "    return X, y"
   ]
  },
  {
   "cell_type": "code",
   "execution_count": 4,
   "metadata": {
    "collapsed": false
   },
   "outputs": [
    {
     "name": "stderr",
     "output_type": "stream",
     "text": [
      "Using TensorFlow backend.\n"
     ]
    }
   ],
   "source": [
    "from keras.layers import Dense, TimeDistributed, LSTM, Conv2D, MaxPooling2D, Flatten\n",
    "from keras.models import Sequential"
   ]
  },
  {
   "cell_type": "code",
   "execution_count": 5,
   "metadata": {
    "collapsed": false
   },
   "outputs": [
    {
     "name": "stdout",
     "output_type": "stream",
     "text": [
      "_________________________________________________________________\n",
      "Layer (type)                 Output Shape              Param #   \n",
      "=================================================================\n",
      "time_distributed_1 (TimeDist (None, None, 49, 49, 2)   10        \n",
      "_________________________________________________________________\n",
      "time_distributed_2 (TimeDist (None, None, 24, 24, 2)   0         \n",
      "_________________________________________________________________\n",
      "time_distributed_3 (TimeDist (None, None, 1152)        0         \n",
      "_________________________________________________________________\n",
      "lstm_1 (LSTM)                (None, 50)                240600    \n",
      "_________________________________________________________________\n",
      "dense_1 (Dense)              (None, 1)                 51        \n",
      "=================================================================\n",
      "Total params: 240,661\n",
      "Trainable params: 240,661\n",
      "Non-trainable params: 0\n",
      "_________________________________________________________________\n"
     ]
    }
   ],
   "source": [
    "# Model definition\n",
    "size = 50\n",
    "\n",
    "model = Sequential()\n",
    "model.add(TimeDistributed(Conv2D(2, (2,2), activation='relu'),\n",
    "                          input_shape=(None,size,size,1)))\n",
    "model.add(TimeDistributed(MaxPooling2D(pool_size=(2, 2))))\n",
    "model.add(TimeDistributed(Flatten()))\n",
    "model.add(LSTM(50))\n",
    "model.add(Dense(1, activation='sigmoid'))\n",
    "model.compile(loss='binary_crossentropy', optimizer='adam',\n",
    "              metrics=['acc'])\n",
    "\n",
    "model.summary()"
   ]
  },
  {
   "cell_type": "code",
   "execution_count": 6,
   "metadata": {
    "collapsed": false
   },
   "outputs": [
    {
     "name": "stdout",
     "output_type": "stream",
     "text": [
      "Epoch 1/1\n",
      " - 23s - loss: 0.1439 - acc: 0.9292\n"
     ]
    },
    {
     "data": {
      "text/plain": [
       "<keras.callbacks.History at 0x7f64ce869c50>"
      ]
     },
     "execution_count": 6,
     "metadata": {},
     "output_type": "execute_result"
    }
   ],
   "source": [
    "# fit model\n",
    "X, y = generate_examples(size, 5000)\n",
    "model.fit(X, y, batch_size=32, epochs=1, verbose=2)"
   ]
  },
  {
   "cell_type": "code",
   "execution_count": 7,
   "metadata": {
    "collapsed": false
   },
   "outputs": [
    {
     "name": "stdout",
     "output_type": "stream",
     "text": [
      "loss: 0.004012, acc: 100.000000\n"
     ]
    }
   ],
   "source": [
    "# evaluate model\n",
    "X, y = generate_examples(size, 100)\n",
    "loss, acc = model.evaluate(X, y, verbose=0)\n",
    "print('loss: %f, acc: %f' % (loss, acc*100))"
   ]
  },
  {
   "cell_type": "code",
   "execution_count": 9,
   "metadata": {
    "collapsed": false
   },
   "outputs": [
    {
     "name": "stdout",
     "output_type": "stream",
     "text": [
      "[[1]] [[1]]\n"
     ]
    }
   ],
   "source": [
    "# prediction on new data\n",
    "X, y = generate_examples(size, 1)\n",
    "yhat = model.predict_classes(X, verbose=0)\n",
    "print(y,yhat)"
   ]
  },
  {
   "cell_type": "code",
   "execution_count": null,
   "metadata": {
    "collapsed": true
   },
   "outputs": [],
   "source": []
  }
 ],
 "metadata": {
  "kernelspec": {
   "display_name": "Python 3",
   "language": "python",
   "name": "python3"
  },
  "language_info": {
   "codemirror_mode": {
    "name": "ipython",
    "version": 3
   },
   "file_extension": ".py",
   "mimetype": "text/x-python",
   "name": "python",
   "nbconvert_exporter": "python",
   "pygments_lexer": "ipython3",
   "version": "3.6.0"
  }
 },
 "nbformat": 4,
 "nbformat_minor": 2
}
