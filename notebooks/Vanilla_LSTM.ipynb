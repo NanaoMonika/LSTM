{
 "cells": [
  {
   "cell_type": "code",
   "execution_count": 1,
   "metadata": {},
   "outputs": [
    {
     "name": "stderr",
     "output_type": "stream",
     "text": [
      "Using TensorFlow backend.\n"
     ]
    }
   ],
   "source": [
    "import numpy as np\n",
    "import pandas as pd\n",
    "from matplotlib import pyplot as plt\n",
    "import keras\n",
    "import sklearn \n",
    "import random"
   ]
  },
  {
   "cell_type": "code",
   "execution_count": 2,
   "metadata": {},
   "outputs": [],
   "source": [
    "def seq(length, n_features):\n",
    "    return np.array([random.randint(0, n_features-1) for i in range(length)])\n",
    "\n",
    "LENGTH = 10\n",
    "FEATS = 10\n",
    "\n",
    "seqX = seq(LENGTH, FEATS)"
   ]
  },
  {
   "cell_type": "code",
   "execution_count": 3,
   "metadata": {},
   "outputs": [],
   "source": [
    "def one_hot_encode_hard(sequence, n_features):\n",
    "  encoding = list()\n",
    "  for value in sequence:\n",
    "    vector = [0 for _ in range(n_features)]\n",
    "    vector[value] = 1\n",
    "    encoding.append(vector)\n",
    "  return np.array(encoding)\n",
    "\n",
    "\n",
    "def one_hot_decode_hard(encoded_seq):\n",
    "  return [np.argmax(vector) for vector in encoded_seq]"
   ]
  },
  {
   "cell_type": "code",
   "execution_count": 4,
   "metadata": {},
   "outputs": [],
   "source": [
    "hard_1_hot = one_hot_encode_hard(seqX, FEATS)"
   ]
  },
  {
   "cell_type": "code",
   "execution_count": 5,
   "metadata": {},
   "outputs": [
    {
     "name": "stdout",
     "output_type": "stream",
     "text": [
      "(1, 25, 100)\n",
      "(1, 100)\n"
     ]
    }
   ],
   "source": [
    "# Generate small example for an LSTM network\n",
    "def generate_example(length, n_features, out_index):\n",
    "    sequence = seq(length, n_features)\n",
    "    encoded = one_hot_encode_hard(sequence, n_features)\n",
    "    X = encoded.reshape((1, length, n_features))\n",
    "    y = encoded[out_index].reshape(1, n_features)\n",
    "    return X, y\n",
    "\n",
    "X, y = generate_example(25, 100, 2)\n",
    "print(X.shape)\n",
    "print(y.shape)"
   ]
  },
  {
   "cell_type": "code",
   "execution_count": 6,
   "metadata": {},
   "outputs": [
    {
     "name": "stdout",
     "output_type": "stream",
     "text": [
      "_________________________________________________________________\n",
      "Layer (type)                 Output Shape              Param #   \n",
      "=================================================================\n",
      "lstm_1 (LSTM)                (None, 25)                3600      \n",
      "_________________________________________________________________\n",
      "dense_1 (Dense)              (None, 10)                260       \n",
      "=================================================================\n",
      "Total params: 3,860\n",
      "Trainable params: 3,860\n",
      "Non-trainable params: 0\n",
      "_________________________________________________________________\n"
     ]
    }
   ],
   "source": [
    "from keras.layers import LSTM, Dense\n",
    "from keras.models import Sequential\n",
    "\n",
    "# Define our vanilla LSTM model.\n",
    "length = 5\n",
    "n_features = 10\n",
    "out_index = 4\n",
    "model = Sequential()\n",
    "model.add(LSTM(25, input_shape=(length, n_features)))\n",
    "model.add(Dense(n_features, activation='softmax'))\n",
    "model.compile(loss='categorical_crossentropy', optimizer='adam', metrics=['acc'])\n",
    "model.summary()"
   ]
  },
  {
   "cell_type": "code",
   "execution_count": 7,
   "metadata": {},
   "outputs": [],
   "source": [
    "# Train our model.\n",
    "# The range denotes the epochs in the general fit function and each generated example is a batch\n",
    "# Each epoch therefore runs through our batch 1 time and the weights are updated.\n",
    "for i in range(1000):\n",
    "  X, y = generate_example(length, n_features, out_index)\n",
    "  model.fit(X, y, epochs=1, verbose=0)"
   ]
  },
  {
   "cell_type": "code",
   "execution_count": 8,
   "metadata": {},
   "outputs": [
    {
     "name": "stdout",
     "output_type": "stream",
     "text": [
      "Accuracy: 100.000000\n"
     ]
    }
   ],
   "source": [
    "# Evaluate our model\n",
    "correct = 0\n",
    "for i in range(100):\n",
    "    X, y = generate_example(length, n_features, out_index)\n",
    "    yhat = model.predict_classes(X)\n",
    "    if yhat == one_hot_decode_hard(y):\n",
    "        correct += 1\n",
    "        \n",
    "print('Accuracy: %f' % ((correct/100)*100.0))"
   ]
  },
  {
   "cell_type": "code",
   "execution_count": 9,
   "metadata": {},
   "outputs": [
    {
     "name": "stdout",
     "output_type": "stream",
     "text": [
      "Sequence: [[5, 6, 9, 8, 0]]\n",
      "Expected: [0]\n",
      "Predicted: [0]\n"
     ]
    }
   ],
   "source": [
    "# Prediction on a new sequence. \n",
    "X, y = generate_example(length, n_features, out_index) \n",
    "yhat = model.predict(X)\n",
    "print('Sequence: %s' % [one_hot_decode_hard(x) for x in X]) \n",
    "print('Expected: %s' % one_hot_decode_hard(y)) \n",
    "print('Predicted: %s' % one_hot_decode_hard(yhat))"
   ]
  }
 ],
 "metadata": {
  "kernelspec": {
   "display_name": "Python 3",
   "language": "python",
   "name": "python3"
  },
  "language_info": {
   "codemirror_mode": {
    "name": "ipython",
    "version": 3
   },
   "file_extension": ".py",
   "mimetype": "text/x-python",
   "name": "python",
   "nbconvert_exporter": "python",
   "pygments_lexer": "ipython3",
   "version": "3.6.5"
  }
 },
 "nbformat": 4,
 "nbformat_minor": 2
}
